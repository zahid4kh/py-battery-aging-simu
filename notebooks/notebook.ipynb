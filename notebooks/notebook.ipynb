{
 "cells": [
  {
   "cell_type": "code",
   "id": "0d35deb4",
   "metadata": {
    "ExecuteTime": {
     "end_time": "2025-08-04T11:14:47.647274Z",
     "start_time": "2025-08-04T11:14:46.823447Z"
    }
   },
   "source": [
    "import pandas as pd\n",
    "df = pd.read_csv(\"../simulation_detailed_TrolleyBus_30Day.csv\")\n",
    "df.columns"
   ],
   "outputs": [
    {
     "data": {
      "text/plain": [
       "Index(['time_hours', 'time_days', 'soc', 'soh', 'capacity', 'current',\n",
       "       'temperature', 'total_ah_throughput', 'efc', 'current_dod',\n",
       "       'calendar_age_days', 'calendar_loss', 'cyclic_loss'],\n",
       "      dtype='object')"
      ]
     },
     "execution_count": 1,
     "metadata": {},
     "output_type": "execute_result"
    }
   ],
   "execution_count": 1
  },
  {
   "cell_type": "code",
   "id": "b6276b7f",
   "metadata": {
    "ExecuteTime": {
     "end_time": "2025-08-04T11:14:52.909148Z",
     "start_time": "2025-08-04T11:14:52.899036Z"
    }
   },
   "source": [
    "time_hours = df[\"time_hours\"].to_list()\n",
    "cyclic_loss = df[\"cyclic_loss\"].to_list()\n",
    "calendar_loss = df[\"calendar_loss\"].to_list()\n",
    "capacity = df[\"capacity\"].to_list()\n",
    "efc = df[\"efc\"].to_list()\n",
    "dod = df[\"current_dod\"].to_list()\n",
    "soc = df[\"soc\"].to_list()\n",
    "soh = df[\"soh\"].to_list()\n",
    "calendar_age_days = df[\"calendar_age_days\"].to_list()\n",
    "total_ah_throughput = df[\"total_ah_throughput\"].to_list()"
   ],
   "outputs": [],
   "execution_count": 2
  }
 ],
 "metadata": {
  "kernelspec": {
   "display_name": ".venv",
   "language": "python",
   "name": "python3"
  },
  "language_info": {
   "codemirror_mode": {
    "name": "ipython",
    "version": 3
   },
   "file_extension": ".py",
   "mimetype": "text/x-python",
   "name": "python",
   "nbconvert_exporter": "python",
   "pygments_lexer": "ipython3",
   "version": "3.12.3"
  }
 },
 "nbformat": 4,
 "nbformat_minor": 5
}
